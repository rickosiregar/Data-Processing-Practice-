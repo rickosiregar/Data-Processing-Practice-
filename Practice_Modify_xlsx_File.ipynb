{
  "nbformat": 4,
  "nbformat_minor": 0,
  "metadata": {
    "colab": {
      "name": "Practice Modify xlsx File.ipynb",
      "provenance": [],
      "authorship_tag": "ABX9TyOijWxVOWSTRTn252xI/EDv",
      "include_colab_link": true
    },
    "kernelspec": {
      "name": "python3",
      "display_name": "Python 3"
    },
    "language_info": {
      "name": "python"
    }
  },
  "cells": [
    {
      "cell_type": "markdown",
      "metadata": {
        "id": "view-in-github",
        "colab_type": "text"
      },
      "source": [
        "<a href=\"https://colab.research.google.com/github/rickosiregar/Data-Processing-Practice-/blob/main/Practice_Modify_xlsx_File.ipynb\" target=\"_parent\"><img src=\"https://colab.research.google.com/assets/colab-badge.svg\" alt=\"Open In Colab\"/></a>"
      ]
    },
    {
      "cell_type": "code",
      "execution_count": 1,
      "metadata": {
        "id": "3N3iGUKEymFu"
      },
      "outputs": [],
      "source": [
        "import pandas as pd\n",
        "import numpy as np"
      ]
    },
    {
      "cell_type": "code",
      "source": [
        "df = pd.read_excel('grabfood - smoked bbq - before.xlsx')"
      ],
      "metadata": {
        "id": "OX7xxDH6zcdF"
      },
      "execution_count": 3,
      "outputs": []
    },
    {
      "cell_type": "code",
      "source": [
        "df.drop('Merchant Name', inplace=True, axis=1)\n",
        "df.drop('Merchant ID', inplace=True, axis=1)\n",
        "df.drop('Store name', inplace=True, axis=1)\n",
        "df.drop('Store ID', inplace=True, axis=1)\n",
        "df.drop('Updated On', inplace=True, axis=1)\n",
        "df.drop('Category', inplace=True, axis=1)\n",
        "df.drop('Subcategory', inplace=True, axis=1)\n",
        "df.drop('Status', inplace=True, axis=1)\n",
        "df.drop('Linked Transaction ID', inplace=True, axis=1)\n",
        "df.drop('Partner transaction ID 1', inplace=True, axis=1)\n",
        "df.drop('Partner transaction ID 2', inplace=True, axis=1)\n",
        "df.drop('Long order ID', inplace=True, axis=1)\n",
        "df.drop('Short order ID ', inplace=True, axis=1)\n",
        "df.drop('Booking ID ', inplace=True, axis=1)\n",
        "df.drop('Order channel', inplace=True, axis=1)\n",
        "df.drop('Order type', inplace=True, axis=1)\n",
        "df.drop('Payment method', inplace=True, axis=1)\n",
        "df.drop('Terminal ID', inplace=True, axis=1)\n",
        "df.drop('Channel ', inplace=True, axis=1)\n",
        "df.drop('Offer type', inplace=True, axis=1)\n",
        "df.drop('Grab Fee (%)', inplace=True, axis=1)\n",
        "df.drop('Points Multiplier', inplace=True, axis=1)\n",
        "df.drop('Points Issued', inplace=True, axis=1)\n",
        "df.drop('Settlement ID', inplace=True, axis=1)\n",
        "df.drop('Transfer date', inplace=True, axis=1)\n",
        "df.drop('Amount', inplace=True, axis=1)\n",
        "df.drop('Tax on order', inplace=True, axis=1)\n",
        "df.drop('Restaurant packaging charge', inplace=True, axis=1)\n",
        "df.drop('Non-Member Fee', inplace=True, axis=1)\n",
        "df.drop('Restaurant service charge', inplace=True, axis=1)\n",
        "df.drop('Offer', inplace=True, axis=1)\n",
        "df.drop('Discount (Merchant-Funded)', inplace=True, axis=1)\n",
        "df.drop('Delivery Fee Discount (Merchant-Funded)', inplace=True, axis=1)\n",
        "df.drop('Delivery Charge (Grab Online Store)', inplace=True, axis=1)\n",
        "df.drop('Delivery Charge (Merchant Delivery)', inplace=True, axis=1)\n",
        "df.drop('GrabExpress Delivery Service Fee', inplace=True, axis=1)\n",
        "df.drop('Net MDR', inplace=True, axis=1)\n",
        "df.drop('Tax on MDR', inplace=True, axis=1)\n",
        "df.drop('Grab fee', inplace=True, axis=1)\n",
        "df.drop('Delivery commission', inplace=True, axis=1)\n",
        "df.drop('Custom Commission', inplace=True, axis=1)\n",
        "df.drop('GrabFood / GrabMart Other Commission', inplace=True, axis=1)\n",
        "df.drop('GrabKitchen commission', inplace=True, axis=1)\n",
        "df.drop('GrabKitchen Other Commission', inplace=True, axis=1)\n",
        "df.drop('Withholding tax', inplace=True, axis=1)\n",
        "df.drop('Total', inplace=True, axis=1)\n",
        "df.drop('\"Tax on GrabFood / GrabMart Commission', inplace=True, axis=1)\n",
        "df.drop(' Adjustments', inplace=True, axis=1)\n",
        "df.drop(' Ads\"', inplace=True, axis=1)\n",
        "df.drop('Tax on Total GrabKitchen Commission', inplace=True, axis=1)\n",
        "df.drop('Cancellation reason', inplace=True, axis=1)\n",
        "df.drop('Cancelled by', inplace=True, axis=1)\n",
        "df.drop('Reason for refund', inplace=True, axis=1)\n",
        "df.drop('Description', inplace=True, axis=1)"
      ],
      "metadata": {
        "id": "MNRHJKV4z4AW"
      },
      "execution_count": 4,
      "outputs": []
    },
    {
      "cell_type": "code",
      "source": [
        "df2 = df[['Date created','Type', 'Channel commission', 'Transaction ID']]\n",
        "df2 ['Type'] = 'Komisi Penjualan'\n",
        "df2 = df2.rename(columns={'Channel commission': 'Net sales'})"
      ],
      "metadata": {
        "colab": {
          "base_uri": "https://localhost:8080/"
        },
        "id": "9uSEPfWs1AJf",
        "outputId": "f6b8ffd2-8cfb-4723-aa9a-ca98cc0f060c"
      },
      "execution_count": 5,
      "outputs": [
        {
          "output_type": "stream",
          "name": "stderr",
          "text": [
            "/usr/local/lib/python3.7/dist-packages/ipykernel_launcher.py:2: SettingWithCopyWarning: \n",
            "A value is trying to be set on a copy of a slice from a DataFrame.\n",
            "Try using .loc[row_indexer,col_indexer] = value instead\n",
            "\n",
            "See the caveats in the documentation: https://pandas.pydata.org/pandas-docs/stable/user_guide/indexing.html#returning-a-view-versus-a-copy\n",
            "  \n"
          ]
        }
      ]
    },
    {
      "cell_type": "code",
      "source": [
        "df.drop('Channel commission', inplace=True, axis=1)\n",
        "df = [df, df2]\n",
        "df = pd.concat(df)\n",
        "df.sort_values(by=['Date created','Transaction ID'], inplace=True)\n",
        "df[\"id\"] = df[\"Transaction ID\"]\n",
        "df.loc[df.id.duplicated(), ['Date created', \"Transaction ID\"]]=np.nan\n",
        "df.drop('id', inplace=True, axis=1)"
      ],
      "metadata": {
        "id": "Lw4RnwoD1Cw-"
      },
      "execution_count": 6,
      "outputs": []
    },
    {
      "cell_type": "code",
      "source": [
        "df.rename(columns = {'Date created':'Bill Date', \n",
        "                     'Type':'Invoice Lines / Label', \n",
        "                     'Net sales':'Invoice Lines / Unit Price',\n",
        "                     'Transaction ID':'Reference'}, inplace = True)\n",
        "df.insert(loc=2, column=\"Quantity\", value='1')\n",
        "df.insert(1,'Due Date',df['Bill Date'])"
      ],
      "metadata": {
        "id": "_ep6dIHx1GFz"
      },
      "execution_count": 7,
      "outputs": []
    },
    {
      "cell_type": "code",
      "source": [
        "print(df)"
      ],
      "metadata": {
        "colab": {
          "base_uri": "https://localhost:8080/"
        },
        "id": "uRpDNkgu1G_V",
        "outputId": "8ba0b3ee-e982-48fa-e0ed-95493dbf79d1"
      },
      "execution_count": 8,
      "outputs": [
        {
          "output_type": "stream",
          "name": "stdout",
          "text": [
            "             Bill Date            Due Date Invoice Lines / Label Quantity  \\\n",
            "18 2022-06-04 13:56:00 2022-06-04 13:56:00              GrabFood        1   \n",
            "18                 NaT                 NaT      Komisi Penjualan        1   \n",
            "17 2022-06-05 16:40:00 2022-06-05 16:40:00              GrabFood        1   \n",
            "17                 NaT                 NaT      Komisi Penjualan        1   \n",
            "15 2022-06-08 18:13:00 2022-06-08 18:13:00              GrabFood        1   \n",
            "15                 NaT                 NaT      Komisi Penjualan        1   \n",
            "16 2022-06-08 18:22:00 2022-06-08 18:22:00              GrabFood        1   \n",
            "16                 NaT                 NaT      Komisi Penjualan        1   \n",
            "14 2022-06-11 11:27:00 2022-06-11 11:27:00              GrabFood        1   \n",
            "14                 NaT                 NaT      Komisi Penjualan        1   \n",
            "13 2022-06-11 18:12:00 2022-06-11 18:12:00              GrabFood        1   \n",
            "13                 NaT                 NaT      Komisi Penjualan        1   \n",
            "12 2022-06-12 15:19:00 2022-06-12 15:19:00              GrabFood        1   \n",
            "12                 NaT                 NaT      Komisi Penjualan        1   \n",
            "11 2022-06-13 10:58:00 2022-06-13 10:58:00              GrabFood        1   \n",
            "11                 NaT                 NaT      Komisi Penjualan        1   \n",
            "10 2022-06-15 12:55:00 2022-06-15 12:55:00              GrabFood        1   \n",
            "10                 NaT                 NaT      Komisi Penjualan        1   \n",
            "9  2022-06-16 10:46:00 2022-06-16 10:46:00              GrabFood        1   \n",
            "9                  NaT                 NaT      Komisi Penjualan        1   \n",
            "8  2022-06-16 12:07:00 2022-06-16 12:07:00              GrabFood        1   \n",
            "8                  NaT                 NaT      Komisi Penjualan        1   \n",
            "7  2022-06-16 19:08:00 2022-06-16 19:08:00              GrabFood        1   \n",
            "7                  NaT                 NaT      Komisi Penjualan        1   \n",
            "6  2022-06-17 12:03:00 2022-06-17 12:03:00              GrabFood        1   \n",
            "6                  NaT                 NaT      Komisi Penjualan        1   \n",
            "5  2022-06-17 16:32:00 2022-06-17 16:32:00              GrabFood        1   \n",
            "5                  NaT                 NaT      Komisi Penjualan        1   \n",
            "4  2022-06-18 14:06:00 2022-06-18 14:06:00              GrabFood        1   \n",
            "4                  NaT                 NaT      Komisi Penjualan        1   \n",
            "3  2022-06-20 13:42:00 2022-06-20 13:42:00              GrabFood        1   \n",
            "3                  NaT                 NaT      Komisi Penjualan        1   \n",
            "2  2022-06-24 15:42:00 2022-06-24 15:42:00              GrabFood        1   \n",
            "2                  NaT                 NaT      Komisi Penjualan        1   \n",
            "1  2022-06-26 14:07:00 2022-06-26 14:07:00              GrabFood        1   \n",
            "1                  NaT                 NaT      Komisi Penjualan        1   \n",
            "0  2022-06-30 16:11:00 2022-06-30 16:11:00              GrabFood        1   \n",
            "0                  NaT                 NaT      Komisi Penjualan        1   \n",
            "\n",
            "       Reference  Invoice Lines / Unit Price  \n",
            "18  1.237328e+10                    60000.00  \n",
            "18           NaN                   -11994.66  \n",
            "17  1.238797e+10                   193750.00  \n",
            "17           NaN                   -38732.76  \n",
            "15  1.242502e+10                   125000.00  \n",
            "15           NaN                   -24988.88  \n",
            "16  1.242496e+10                    60000.00  \n",
            "16           NaN                   -11994.66  \n",
            "14  1.245748e+10                    95000.00  \n",
            "14           NaN                   -18991.54  \n",
            "13  1.246331e+10                   150000.00  \n",
            "13           NaN                   -29986.65  \n",
            "12  1.247386e+10                   125000.00  \n",
            "12           NaN                   -24988.88  \n",
            "11  1.248364e+10                   281250.00  \n",
            "11           NaN                   -56224.97  \n",
            "10  1.250927e+10                    91250.00  \n",
            "10           NaN                   -18241.88  \n",
            "9   1.251904e+10                    35000.00  \n",
            "9            NaN                    -6996.89  \n",
            "8   1.252041e+10                   425000.00  \n",
            "8            NaN                   -84962.18  \n",
            "7   1.252632e+10                   115000.00  \n",
            "7            NaN                   -22989.77  \n",
            "6   1.253248e+10                    43750.00  \n",
            "6            NaN                    -8746.11  \n",
            "5   1.253603e+10                   193750.00  \n",
            "5            NaN                   -38732.76  \n",
            "4   1.254667e+10                   156250.00  \n",
            "4            NaN                   -31236.09  \n",
            "3   1.257054e+10                    35000.00  \n",
            "3            NaN                    -6996.89  \n",
            "2   1.262044e+10                   218750.00  \n",
            "2            NaN                   -43730.53  \n",
            "1   1.264505e+10                   212500.00  \n",
            "1            NaN                   -42481.09  \n",
            "0   1.269698e+10                   120000.00  \n",
            "0            NaN                   -23989.32  \n"
          ]
        }
      ]
    },
    {
      "cell_type": "code",
      "source": [
        "df.to_excel(\"Grabfood_Modify.xlsx\")"
      ],
      "metadata": {
        "id": "AT53_Apj1Uwv"
      },
      "execution_count": 10,
      "outputs": []
    }
  ]
}